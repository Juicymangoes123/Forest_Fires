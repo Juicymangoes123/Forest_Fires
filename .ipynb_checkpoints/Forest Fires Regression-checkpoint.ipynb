{
 "cells": [],
 "metadf": {},
 "nbformat": 4,
 "nbformat_minor": 2
}
